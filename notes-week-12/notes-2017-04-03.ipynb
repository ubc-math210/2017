{
 "cells": [
  {
   "cell_type": "markdown",
   "metadata": {
    "deletable": true,
    "editable": true
   },
   "source": [
    "# MATH 210 Introduction to Mathematical Computing\n",
    "\n",
    "## April 3, 2017\n",
    "\n",
    "* Example: basketball-reference.com\n",
    "    * Creating a .csv file from text\n",
    "        * Cleveland scores (2015-16 NBA season)\n",
    "    * Using `.map` on Series and `.apply` on DataFrames to create new columns\n",
    "        * Point differential per game\n",
    "    * Using `.concat` to put DataFrames together\n",
    "        * Compare Cleveland v. Golden State"
   ]
  },
  {
   "cell_type": "code",
   "execution_count": 1,
   "metadata": {
    "collapsed": true,
    "deletable": true,
    "editable": true
   },
   "outputs": [],
   "source": [
    "import pandas as pd\n",
    "import matplotlib.pyplot as plt\n",
    "%matplotlib inline"
   ]
  },
  {
   "cell_type": "markdown",
   "metadata": {
    "deletable": true,
    "editable": true
   },
   "source": [
    "## Example: basketball-reference.com\n",
    "\n",
    "NBA stats are compiled and freely available at [basketball-reference.com](http://www.basketball-reference.com/). However, to build larger datasets (such as scores for each of the total 1230 games played in an NBA season), we need to copy and paste text and create our own .csv files. Let's try it for jsut the 82 games played by the [Cleveland Cavaliers](http://www.nba.com/cavaliers/) and also the [Golden State Warriors](http://www.nba.com/warriors/)."
   ]
  },
  {
   "cell_type": "markdown",
   "metadata": {
    "deletable": true,
    "editable": true
   },
   "source": [
    "### Creating a .csv file from text: Cleveland scores (2015-16 NBA season)\n",
    "\n",
    "Go to [basketball-reference.com](http://www.basketball-reference.com/) and navigate to the page for [Cleveland's regular season games table](http://www.basketball-reference.com/teams/CLE/2017_games.html). Click \"Share & more\" and \"Modify & Share Table\".\n",
    "\n",
    "We click the symbols $\\times$ to remove all the unwanted columns and rows. Keep the 8 columns: G, Date, Opponent, (Blank - W or L column), Tm, Opp, W and L. Remove the rows with column headers embedded in the middle of the table. The result is 82 rows for each of the 82 games.\n",
    "\n",
    "Click \"Get table as CSV\" and we simply copy the text. The top few lines of the file are:\n",
    "\n",
    "```\n",
    "\n",
    "G,Date,Opponent,,Tm,Opp,W,L\n",
    ",,,,,,,\n",
    "1,Tue Oct 25 2016,New York Knicks,W,117,88,1,0\n",
    "2,Fri Oct 28 2016,Toronto Raptors,W,94,91,2,0\n",
    "3,Sat Oct 29 2016,Orlando Magic,W,105,99,3,0\n",
    "4,Tue Nov 1 2016,Houston Rockets,W,128,120,4,0\n",
    "5,Thu Nov 3 2016,Boston Celtics,W,128,122,5,0\n",
    "```\n",
    "\n",
    "From the Jupyter main page, open a new text file using the New menu, and then paste the text. We can manually delete the second line (which is empty with just commas) and also enter a name \"W/L\" for the W or L column. Finally, save the file as `CLE-season.csv`.\n",
    "\n",
    "We created our own .csv file from text we copied from an HTML table on the internet! Let's import it!"
   ]
  },
  {
   "cell_type": "code",
   "execution_count": 2,
   "metadata": {
    "collapsed": true,
    "deletable": true,
    "editable": true
   },
   "outputs": [],
   "source": [
    "cleveland = pd.read_csv(\"CLE-season.csv\",index_col=0,parse_dates=[1])"
   ]
  },
  {
   "cell_type": "code",
   "execution_count": 3,
   "metadata": {
    "collapsed": false,
    "deletable": true,
    "editable": true
   },
   "outputs": [
    {
     "data": {
      "text/html": [
       "<div>\n",
       "<table border=\"1\" class=\"dataframe\">\n",
       "  <thead>\n",
       "    <tr style=\"text-align: right;\">\n",
       "      <th></th>\n",
       "      <th>Date</th>\n",
       "      <th>Opponent</th>\n",
       "      <th>W/L</th>\n",
       "      <th>Tm</th>\n",
       "      <th>Opp</th>\n",
       "      <th>W</th>\n",
       "      <th>L</th>\n",
       "    </tr>\n",
       "    <tr>\n",
       "      <th>G</th>\n",
       "      <th></th>\n",
       "      <th></th>\n",
       "      <th></th>\n",
       "      <th></th>\n",
       "      <th></th>\n",
       "      <th></th>\n",
       "      <th></th>\n",
       "    </tr>\n",
       "  </thead>\n",
       "  <tbody>\n",
       "    <tr>\n",
       "      <th>1</th>\n",
       "      <td>2015-10-27</td>\n",
       "      <td>Chicago Bulls</td>\n",
       "      <td>L</td>\n",
       "      <td>95</td>\n",
       "      <td>97</td>\n",
       "      <td>0</td>\n",
       "      <td>1</td>\n",
       "    </tr>\n",
       "    <tr>\n",
       "      <th>2</th>\n",
       "      <td>2015-10-28</td>\n",
       "      <td>Memphis Grizzlies</td>\n",
       "      <td>W</td>\n",
       "      <td>106</td>\n",
       "      <td>76</td>\n",
       "      <td>1</td>\n",
       "      <td>1</td>\n",
       "    </tr>\n",
       "    <tr>\n",
       "      <th>3</th>\n",
       "      <td>2015-10-30</td>\n",
       "      <td>Miami Heat</td>\n",
       "      <td>W</td>\n",
       "      <td>102</td>\n",
       "      <td>92</td>\n",
       "      <td>2</td>\n",
       "      <td>1</td>\n",
       "    </tr>\n",
       "    <tr>\n",
       "      <th>4</th>\n",
       "      <td>2015-11-02</td>\n",
       "      <td>Philadelphia 76ers</td>\n",
       "      <td>W</td>\n",
       "      <td>107</td>\n",
       "      <td>100</td>\n",
       "      <td>3</td>\n",
       "      <td>1</td>\n",
       "    </tr>\n",
       "    <tr>\n",
       "      <th>5</th>\n",
       "      <td>2015-11-04</td>\n",
       "      <td>New York Knicks</td>\n",
       "      <td>W</td>\n",
       "      <td>96</td>\n",
       "      <td>86</td>\n",
       "      <td>4</td>\n",
       "      <td>1</td>\n",
       "    </tr>\n",
       "  </tbody>\n",
       "</table>\n",
       "</div>"
      ],
      "text/plain": [
       "        Date            Opponent W/L   Tm  Opp  W  L\n",
       "G                                                   \n",
       "1 2015-10-27       Chicago Bulls   L   95   97  0  1\n",
       "2 2015-10-28   Memphis Grizzlies   W  106   76  1  1\n",
       "3 2015-10-30          Miami Heat   W  102   92  2  1\n",
       "4 2015-11-02  Philadelphia 76ers   W  107  100  3  1\n",
       "5 2015-11-04     New York Knicks   W   96   86  4  1"
      ]
     },
     "execution_count": 3,
     "metadata": {},
     "output_type": "execute_result"
    }
   ],
   "source": [
    "cleveland.head()"
   ]
  },
  {
   "cell_type": "code",
   "execution_count": 4,
   "metadata": {
    "collapsed": false,
    "deletable": true,
    "editable": true
   },
   "outputs": [
    {
     "name": "stdout",
     "output_type": "stream",
     "text": [
      "<class 'pandas.core.frame.DataFrame'>\n",
      "Int64Index: 82 entries, 1 to 82\n",
      "Data columns (total 7 columns):\n",
      "Date        82 non-null datetime64[ns]\n",
      "Opponent    82 non-null object\n",
      "W/L         82 non-null object\n",
      "Tm          82 non-null int64\n",
      "Opp         82 non-null int64\n",
      "W           82 non-null int64\n",
      "L           82 non-null int64\n",
      "dtypes: datetime64[ns](1), int64(4), object(2)\n",
      "memory usage: 5.1+ KB\n"
     ]
    }
   ],
   "source": [
    "cleveland.info()"
   ]
  },
  {
   "cell_type": "markdown",
   "metadata": {
    "deletable": true,
    "editable": true
   },
   "source": [
    "### Use .map on Series and .apply on DataFrames to create new columns\n",
    "\n",
    "Let's create a new column for the point differential per game: Cleveland's points minus opponents points in a game. Use the `.apply` method."
   ]
  },
  {
   "cell_type": "code",
   "execution_count": 5,
   "metadata": {
    "collapsed": false,
    "deletable": true,
    "editable": true
   },
   "outputs": [],
   "source": [
    "cleveland['Diff'] = cleveland.apply(lambda row : row['Tm'] - row['Opp'],axis=1)"
   ]
  },
  {
   "cell_type": "markdown",
   "metadata": {
    "deletable": true,
    "editable": true
   },
   "source": [
    "The `.apply` method (with `axis=1`) allows use the row entries to create a new value. Notice that we are defining an anonymous lambda function which takes in a row and returns the difference between the `Tm` and `Opp` columns."
   ]
  },
  {
   "cell_type": "code",
   "execution_count": 6,
   "metadata": {
    "collapsed": false,
    "deletable": true,
    "editable": true
   },
   "outputs": [
    {
     "data": {
      "text/html": [
       "<div>\n",
       "<table border=\"1\" class=\"dataframe\">\n",
       "  <thead>\n",
       "    <tr style=\"text-align: right;\">\n",
       "      <th></th>\n",
       "      <th>Date</th>\n",
       "      <th>Opponent</th>\n",
       "      <th>W/L</th>\n",
       "      <th>Tm</th>\n",
       "      <th>Opp</th>\n",
       "      <th>W</th>\n",
       "      <th>L</th>\n",
       "      <th>Diff</th>\n",
       "    </tr>\n",
       "    <tr>\n",
       "      <th>G</th>\n",
       "      <th></th>\n",
       "      <th></th>\n",
       "      <th></th>\n",
       "      <th></th>\n",
       "      <th></th>\n",
       "      <th></th>\n",
       "      <th></th>\n",
       "      <th></th>\n",
       "    </tr>\n",
       "  </thead>\n",
       "  <tbody>\n",
       "    <tr>\n",
       "      <th>1</th>\n",
       "      <td>2015-10-27</td>\n",
       "      <td>Chicago Bulls</td>\n",
       "      <td>L</td>\n",
       "      <td>95</td>\n",
       "      <td>97</td>\n",
       "      <td>0</td>\n",
       "      <td>1</td>\n",
       "      <td>-2</td>\n",
       "    </tr>\n",
       "    <tr>\n",
       "      <th>2</th>\n",
       "      <td>2015-10-28</td>\n",
       "      <td>Memphis Grizzlies</td>\n",
       "      <td>W</td>\n",
       "      <td>106</td>\n",
       "      <td>76</td>\n",
       "      <td>1</td>\n",
       "      <td>1</td>\n",
       "      <td>30</td>\n",
       "    </tr>\n",
       "    <tr>\n",
       "      <th>3</th>\n",
       "      <td>2015-10-30</td>\n",
       "      <td>Miami Heat</td>\n",
       "      <td>W</td>\n",
       "      <td>102</td>\n",
       "      <td>92</td>\n",
       "      <td>2</td>\n",
       "      <td>1</td>\n",
       "      <td>10</td>\n",
       "    </tr>\n",
       "    <tr>\n",
       "      <th>4</th>\n",
       "      <td>2015-11-02</td>\n",
       "      <td>Philadelphia 76ers</td>\n",
       "      <td>W</td>\n",
       "      <td>107</td>\n",
       "      <td>100</td>\n",
       "      <td>3</td>\n",
       "      <td>1</td>\n",
       "      <td>7</td>\n",
       "    </tr>\n",
       "    <tr>\n",
       "      <th>5</th>\n",
       "      <td>2015-11-04</td>\n",
       "      <td>New York Knicks</td>\n",
       "      <td>W</td>\n",
       "      <td>96</td>\n",
       "      <td>86</td>\n",
       "      <td>4</td>\n",
       "      <td>1</td>\n",
       "      <td>10</td>\n",
       "    </tr>\n",
       "  </tbody>\n",
       "</table>\n",
       "</div>"
      ],
      "text/plain": [
       "        Date            Opponent W/L   Tm  Opp  W  L  Diff\n",
       "G                                                         \n",
       "1 2015-10-27       Chicago Bulls   L   95   97  0  1    -2\n",
       "2 2015-10-28   Memphis Grizzlies   W  106   76  1  1    30\n",
       "3 2015-10-30          Miami Heat   W  102   92  2  1    10\n",
       "4 2015-11-02  Philadelphia 76ers   W  107  100  3  1     7\n",
       "5 2015-11-04     New York Knicks   W   96   86  4  1    10"
      ]
     },
     "execution_count": 6,
     "metadata": {},
     "output_type": "execute_result"
    }
   ],
   "source": [
    "cleveland.head()"
   ]
  },
  {
   "cell_type": "code",
   "execution_count": 7,
   "metadata": {
    "collapsed": false,
    "deletable": true,
    "editable": true
   },
   "outputs": [
    {
     "data": {
      "text/plain": [
       "<matplotlib.axes._subplots.AxesSubplot at 0x7f16f0489860>"
      ]
     },
     "execution_count": 7,
     "metadata": {},
     "output_type": "execute_result"
    },
    {
     "data": {
      "image/png": "[encoded data removed]",
      "text/plain": [
       "<matplotlib.figure.Figure at 0x7f16f0406160>"
      ]
     },
     "metadata": {},
     "output_type": "display_data"
    }
   ],
   "source": [
    "cleveland['Diff'].plot(kind='bar',figsize=(15,5))"
   ]
  },
  {
   "cell_type": "markdown",
   "metadata": {
    "deletable": true,
    "editable": true
   },
   "source": [
    "The worst game for Cleveland in 2015-2016 is Game #39 when they lost by over 30 points. Who was that against?"
   ]
  },
  {
   "cell_type": "code",
   "execution_count": 8,
   "metadata": {
    "collapsed": false,
    "deletable": true,
    "editable": true
   },
   "outputs": [
    {
     "data": {
      "text/plain": [
       "Date          2016-01-18 00:00:00\n",
       "Opponent    Golden State Warriors\n",
       "W/L                             L\n",
       "Tm                             98\n",
       "Opp                           132\n",
       "W                              28\n",
       "L                              11\n",
       "Diff                          -34\n",
       "Name: 39, dtype: object"
      ]
     },
     "execution_count": 8,
     "metadata": {},
     "output_type": "execute_result"
    }
   ],
   "source": [
    "cleveland.loc[39]"
   ]
  },
  {
   "cell_type": "markdown",
   "metadata": {
    "deletable": true,
    "editable": true
   },
   "source": [
    "Golden State Warriors!"
   ]
  },
  {
   "cell_type": "markdown",
   "metadata": {
    "deletable": true,
    "editable": true
   },
   "source": [
    "#### lambda functions\n",
    "\n",
    "Recall, [lambda functions](http://stackoverflow.com/questions/890128/why-are-python-lambdas-useful) are just a short way to define a regular function. For example:"
   ]
  },
  {
   "cell_type": "code",
   "execution_count": 9,
   "metadata": {
    "collapsed": true,
    "deletable": true,
    "editable": true
   },
   "outputs": [],
   "source": [
    "def fun(x):\n",
    "    return x**2"
   ]
  },
  {
   "cell_type": "code",
   "execution_count": 10,
   "metadata": {
    "collapsed": false,
    "deletable": true,
    "editable": true
   },
   "outputs": [
    {
     "data": {
      "text/plain": [
       "9"
      ]
     },
     "execution_count": 10,
     "metadata": {},
     "output_type": "execute_result"
    }
   ],
   "source": [
    "fun(3)"
   ]
  },
  {
   "cell_type": "code",
   "execution_count": 11,
   "metadata": {
    "collapsed": true,
    "deletable": true,
    "editable": true
   },
   "outputs": [],
   "source": [
    "# Define a function in one line using the lambda keyword and name the function fun\n",
    "fun = lambda x : x**2"
   ]
  },
  {
   "cell_type": "code",
   "execution_count": 12,
   "metadata": {
    "collapsed": false,
    "deletable": true,
    "editable": true
   },
   "outputs": [
    {
     "data": {
      "text/plain": [
       "9"
      ]
     },
     "execution_count": 12,
     "metadata": {},
     "output_type": "execute_result"
    }
   ],
   "source": [
    "fun(3)"
   ]
  },
  {
   "cell_type": "markdown",
   "metadata": {
    "deletable": true,
    "editable": true
   },
   "source": [
    "### Golden State scores (2015-16 NBA season)\n",
    "\n",
    "Let's create a .csv file for the Golden State game scores from 2015-2016 in the same way we did for Cleveland above."
   ]
  },
  {
   "cell_type": "code",
   "execution_count": 13,
   "metadata": {
    "collapsed": true,
    "deletable": true,
    "editable": true
   },
   "outputs": [],
   "source": [
    "golden_state = pd.read_csv(\"GS-season.csv\",index_col=0,parse_dates=[1])"
   ]
  },
  {
   "cell_type": "code",
   "execution_count": 14,
   "metadata": {
    "collapsed": false,
    "deletable": true,
    "editable": true
   },
   "outputs": [
    {
     "data": {
      "text/html": [
       "<div>\n",
       "<table border=\"1\" class=\"dataframe\">\n",
       "  <thead>\n",
       "    <tr style=\"text-align: right;\">\n",
       "      <th></th>\n",
       "      <th>Date</th>\n",
       "      <th>Opponent</th>\n",
       "      <th>W/L</th>\n",
       "      <th>Tm</th>\n",
       "      <th>Opp</th>\n",
       "      <th>W</th>\n",
       "      <th>L</th>\n",
       "    </tr>\n",
       "    <tr>\n",
       "      <th>G</th>\n",
       "      <th></th>\n",
       "      <th></th>\n",
       "      <th></th>\n",
       "      <th></th>\n",
       "      <th></th>\n",
       "      <th></th>\n",
       "      <th></th>\n",
       "    </tr>\n",
       "  </thead>\n",
       "  <tbody>\n",
       "    <tr>\n",
       "      <th>1</th>\n",
       "      <td>2015-10-27</td>\n",
       "      <td>New Orleans Pelicans</td>\n",
       "      <td>W</td>\n",
       "      <td>111</td>\n",
       "      <td>95</td>\n",
       "      <td>1</td>\n",
       "      <td>0</td>\n",
       "    </tr>\n",
       "    <tr>\n",
       "      <th>2</th>\n",
       "      <td>2015-10-30</td>\n",
       "      <td>Houston Rockets</td>\n",
       "      <td>W</td>\n",
       "      <td>112</td>\n",
       "      <td>92</td>\n",
       "      <td>2</td>\n",
       "      <td>0</td>\n",
       "    </tr>\n",
       "    <tr>\n",
       "      <th>3</th>\n",
       "      <td>2015-10-31</td>\n",
       "      <td>New Orleans Pelicans</td>\n",
       "      <td>W</td>\n",
       "      <td>134</td>\n",
       "      <td>120</td>\n",
       "      <td>3</td>\n",
       "      <td>0</td>\n",
       "    </tr>\n",
       "    <tr>\n",
       "      <th>4</th>\n",
       "      <td>2015-11-02</td>\n",
       "      <td>Memphis Grizzlies</td>\n",
       "      <td>W</td>\n",
       "      <td>119</td>\n",
       "      <td>69</td>\n",
       "      <td>4</td>\n",
       "      <td>0</td>\n",
       "    </tr>\n",
       "    <tr>\n",
       "      <th>5</th>\n",
       "      <td>2015-11-04</td>\n",
       "      <td>Los Angeles Clippers</td>\n",
       "      <td>W</td>\n",
       "      <td>112</td>\n",
       "      <td>108</td>\n",
       "      <td>5</td>\n",
       "      <td>0</td>\n",
       "    </tr>\n",
       "  </tbody>\n",
       "</table>\n",
       "</div>"
      ],
      "text/plain": [
       "        Date              Opponent W/L   Tm  Opp  W  L\n",
       "G                                                     \n",
       "1 2015-10-27  New Orleans Pelicans   W  111   95  1  0\n",
       "2 2015-10-30       Houston Rockets   W  112   92  2  0\n",
       "3 2015-10-31  New Orleans Pelicans   W  134  120  3  0\n",
       "4 2015-11-02     Memphis Grizzlies   W  119   69  4  0\n",
       "5 2015-11-04  Los Angeles Clippers   W  112  108  5  0"
      ]
     },
     "execution_count": 14,
     "metadata": {},
     "output_type": "execute_result"
    }
   ],
   "source": [
    "golden_state.head()"
   ]
  },
  {
   "cell_type": "code",
   "execution_count": 15,
   "metadata": {
    "collapsed": true,
    "deletable": true,
    "editable": true
   },
   "outputs": [],
   "source": [
    "golden_state['Diff'] = golden_state.apply(lambda row : row['Tm'] - row['Opp'],axis=1)"
   ]
  },
  {
   "cell_type": "code",
   "execution_count": 16,
   "metadata": {
    "collapsed": false,
    "deletable": true,
    "editable": true
   },
   "outputs": [
    {
     "data": {
      "text/plain": [
       "<matplotlib.axes._subplots.AxesSubplot at 0x7f16f03d1898>"
      ]
     },
     "execution_count": 16,
     "metadata": {},
     "output_type": "execute_result"
    },
    {
     "data": {
      "image/png": "[encoded data removed]",
      "text/plain": [
       "<matplotlib.figure.Figure at 0x7f172b7dbfd0>"
      ]
     },
     "metadata": {},
     "output_type": "display_data"
    }
   ],
   "source": [
    "golden_state['Diff'].plot(kind='bar',figsize=(15,5))"
   ]
  },
  {
   "cell_type": "markdown",
   "metadata": {
    "deletable": true,
    "editable": true
   },
   "source": [
    "Wow! Who did Golden State beat by 50 points in game 4?"
   ]
  },
  {
   "cell_type": "code",
   "execution_count": 17,
   "metadata": {
    "collapsed": false,
    "deletable": true,
    "editable": true
   },
   "outputs": [
    {
     "data": {
      "text/plain": [
       "Date        2015-11-02 00:00:00\n",
       "Opponent      Memphis Grizzlies\n",
       "W/L                           W\n",
       "Tm                          119\n",
       "Opp                          69\n",
       "W                             4\n",
       "L                             0\n",
       "Diff                         50\n",
       "Name: 4, dtype: object"
      ]
     },
     "execution_count": 17,
     "metadata": {},
     "output_type": "execute_result"
    }
   ],
   "source": [
    "golden_state.loc[4]"
   ]
  },
  {
   "cell_type": "markdown",
   "metadata": {
    "collapsed": true,
    "deletable": true,
    "editable": true
   },
   "source": [
    "### Compare seasons: Cleveland v. Golden State\n",
    "\n",
    "We can put the two plots together in compare."
   ]
  },
  {
   "cell_type": "code",
   "execution_count": 18,
   "metadata": {
    "collapsed": false,
    "deletable": true,
    "editable": true
   },
   "outputs": [
    {
     "data": {
      "image/png": "[encoded data removed]",
      "text/plain": [
       "<matplotlib.figure.Figure at 0x7f16f02b9e48>"
      ]
     },
     "metadata": {},
     "output_type": "display_data"
    }
   ],
   "source": [
    "plt.subplot(2,1,1)\n",
    "cleveland['Diff'].plot(kind='bar',figsize=(15,5),title='Cleveland')\n",
    "plt.subplot(2,1,2)\n",
    "golden_state['Diff'].plot(kind='bar',figsize=(15,5),title='Golden State')\n",
    "plt.tight_layout()"
   ]
  },
  {
   "cell_type": "markdown",
   "metadata": {
    "deletable": true,
    "editable": true
   },
   "source": [
    "Let's create new columns in each data frame for Win differential (Wins - Losses), create a new frame with these columns and plot them together."
   ]
  },
  {
   "cell_type": "code",
   "execution_count": 19,
   "metadata": {
    "collapsed": false,
    "deletable": true,
    "editable": true
   },
   "outputs": [],
   "source": [
    "cleveland['W/L Diff'] = cleveland.apply(lambda row : row['W'] - row['L'],axis=1)\n",
    "golden_state['W/L Diff'] = golden_state.apply(lambda row : row['W'] - row['L'],axis=1)"
   ]
  },
  {
   "cell_type": "markdown",
   "metadata": {
    "deletable": true,
    "editable": true
   },
   "source": [
    "Now we can concatenate the columns into a new dataframe. Check out the documentation for `pd.concat`:"
   ]
  },
  {
   "cell_type": "code",
   "execution_count": 20,
   "metadata": {
    "collapsed": true,
    "deletable": true,
    "editable": true
   },
   "outputs": [],
   "source": [
    "pd.concat?"
   ]
  },
  {
   "cell_type": "markdown",
   "metadata": {
    "deletable": true,
    "editable": true
   },
   "source": [
    "Create a new dataframe from the Win column of each team."
   ]
  },
  {
   "cell_type": "code",
   "execution_count": 21,
   "metadata": {
    "collapsed": true,
    "deletable": true,
    "editable": true
   },
   "outputs": [],
   "source": [
    "win_diff = pd.concat([cleveland['W/L Diff'],golden_state['W/L Diff']],axis=1)"
   ]
  },
  {
   "cell_type": "code",
   "execution_count": 22,
   "metadata": {
    "collapsed": false,
    "deletable": true,
    "editable": true
   },
   "outputs": [],
   "source": [
    "win_diff.columns = ['Cleveland','Golden State']"
   ]
  },
  {
   "cell_type": "code",
   "execution_count": 23,
   "metadata": {
    "collapsed": false,
    "deletable": true,
    "editable": true
   },
   "outputs": [
    {
     "data": {
      "text/html": [
       "<div>\n",
       "<table border=\"1\" class=\"dataframe\">\n",
       "  <thead>\n",
       "    <tr style=\"text-align: right;\">\n",
       "      <th></th>\n",
       "      <th>Cleveland</th>\n",
       "      <th>Golden State</th>\n",
       "    </tr>\n",
       "    <tr>\n",
       "      <th>G</th>\n",
       "      <th></th>\n",
       "      <th></th>\n",
       "    </tr>\n",
       "  </thead>\n",
       "  <tbody>\n",
       "    <tr>\n",
       "      <th>1</th>\n",
       "      <td>-1</td>\n",
       "      <td>1</td>\n",
       "    </tr>\n",
       "    <tr>\n",
       "      <th>2</th>\n",
       "      <td>0</td>\n",
       "      <td>2</td>\n",
       "    </tr>\n",
       "    <tr>\n",
       "      <th>3</th>\n",
       "      <td>1</td>\n",
       "      <td>3</td>\n",
       "    </tr>\n",
       "    <tr>\n",
       "      <th>4</th>\n",
       "      <td>2</td>\n",
       "      <td>4</td>\n",
       "    </tr>\n",
       "    <tr>\n",
       "      <th>5</th>\n",
       "      <td>3</td>\n",
       "      <td>5</td>\n",
       "    </tr>\n",
       "  </tbody>\n",
       "</table>\n",
       "</div>"
      ],
      "text/plain": [
       "   Cleveland  Golden State\n",
       "G                         \n",
       "1         -1             1\n",
       "2          0             2\n",
       "3          1             3\n",
       "4          2             4\n",
       "5          3             5"
      ]
     },
     "execution_count": 23,
     "metadata": {},
     "output_type": "execute_result"
    }
   ],
   "source": [
    "win_diff.head()"
   ]
  },
  {
   "cell_type": "code",
   "execution_count": 24,
   "metadata": {
    "collapsed": false,
    "deletable": true,
    "editable": true
   },
   "outputs": [
    {
     "name": "stdout",
     "output_type": "stream",
     "text": [
      "<class 'pandas.core.frame.DataFrame'>\n",
      "Int64Index: 82 entries, 1 to 82\n",
      "Data columns (total 2 columns):\n",
      "Cleveland       82 non-null int64\n",
      "Golden State    82 non-null int64\n",
      "dtypes: int64(2)\n",
      "memory usage: 1.9 KB\n"
     ]
    }
   ],
   "source": [
    "win_diff.info()"
   ]
  },
  {
   "cell_type": "code",
   "execution_count": 25,
   "metadata": {
    "collapsed": false,
    "deletable": true,
    "editable": true
   },
   "outputs": [
    {
     "data": {
      "text/plain": [
       "<matplotlib.axes._subplots.AxesSubplot at 0x7f16ee4bd9e8>"
      ]
     },
     "execution_count": 25,
     "metadata": {},
     "output_type": "execute_result"
    },
    {
     "data": {
      "image/png": "[encoded data removed]",
      "text/plain": [
       "<matplotlib.figure.Figure at 0x7f16f02a0e80>"
      ]
     },
     "metadata": {},
     "output_type": "display_data"
    }
   ],
   "source": [
    "win_diff.plot()"
   ]
  }
 ],
 "metadata": {
  "kernelspec": {
   "display_name": "Python 3",
   "language": "python",
   "name": "python3"
  },
  "language_info": {
   "codemirror_mode": {
    "name": "ipython",
    "version": 3
   },
   "file_extension": ".py",
   "mimetype": "text/x-python",
   "name": "python",
   "nbconvert_exporter": "python",
   "pygments_lexer": "ipython3",
   "version": "3.5.2"
  }
 },
 "nbformat": 4,
 "nbformat_minor": 2
}
